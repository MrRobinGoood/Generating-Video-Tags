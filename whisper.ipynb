{
 "cells": [
  {
   "cell_type": "code",
   "execution_count": null,
   "id": "8b179518-e2c8-4ef2-804b-04433e1726a2",
   "metadata": {
    "scrolled": true
   },
   "outputs": [],
   "source": [
    "%pip install --upgrade transformers accelerate"
   ]
  },
  {
   "cell_type": "code",
   "execution_count": 29,
   "id": "bb06b795-d082-46cd-baee-08e2383fe938",
   "metadata": {},
   "outputs": [],
   "source": [
    "import torch\n",
    "import pandas as pd\n",
    "import os\n",
    "import ffmpeg\n",
    "from pathlib import Path\n",
    "from transformers import AutoModelForSpeechSeq2Seq, AutoProcessor, pipeline"
   ]
  },
  {
   "cell_type": "code",
   "execution_count": 11,
   "id": "a21a6ba4-1cb0-4b13-9d46-b31a5b4e4144",
   "metadata": {},
   "outputs": [
    {
     "name": "stdout",
     "output_type": "stream",
     "text": [
      "Using device: cuda:0\n"
     ]
    }
   ],
   "source": [
    "device2 = \"cuda:0\" if torch.cuda.is_available() else \"cpu\"\n",
    "print(f\"Using device: {device2}\")\n",
    "torch_dtype = torch.float16 if torch.cuda.is_available() else torch.float32"
   ]
  },
  {
   "cell_type": "code",
   "execution_count": 12,
   "id": "4c246058-cd83-4f41-8935-fb891fa0cf8f",
   "metadata": {},
   "outputs": [],
   "source": [
    "model_id = \"openai/whisper-large-v3\"\n",
    "\n",
    "model = AutoModelForSpeechSeq2Seq.from_pretrained(\n",
    "    model_id, torch_dtype=torch_dtype, low_cpu_mem_usage=True, use_safetensors=True\n",
    ")\n",
    "model.to(device2)\n",
    "\n",
    "processor = AutoProcessor.from_pretrained(model_id)\n",
    "\n",
    "pipe = pipeline(\n",
    "    \"automatic-speech-recognition\",\n",
    "    model=model,\n",
    "    tokenizer=processor.tokenizer,\n",
    "    feature_extractor=processor.feature_extractor,\n",
    "    torch_dtype=torch_dtype,\n",
    "    device=device2,\n",
    "\n",
    ")"
   ]
  },
  {
   "cell_type": "code",
   "execution_count": null,
   "id": "980a0c0f-18cf-4256-a7bd-11671605dd4d",
   "metadata": {
    "scrolled": true
   },
   "outputs": [],
   "source": [
    "# !sudo apt install ffmpeg -y"
   ]
  },
  {
   "cell_type": "code",
   "execution_count": null,
   "id": "3e6603b5-8125-47ae-9001-1597bd59ce91",
   "metadata": {},
   "outputs": [],
   "source": [
    "# %pip install ffmpeg-python"
   ]
  },
  {
   "cell_type": "code",
   "execution_count": 13,
   "id": "8742c59e-a832-4268-bd3f-6a54d2381605",
   "metadata": {},
   "outputs": [],
   "source": [
    "#конвертация mp4 в mp3\n",
    "def convert_video_to_audio(input_path, output_path):\n",
    "    try:\n",
    "        # Проверяем существование входного файла\n",
    "        input_file = Path(input_path)\n",
    "        if not input_file.exists():\n",
    "            raise FileNotFoundError(f\"Файл {input_path} не найден\")\n",
    "\n",
    "        # Выполняем преобразование\n",
    "        (\n",
    "            ffmpeg.input(input_path)\n",
    "            .output(output_path, format='mp3')\n",
    "            .overwrite_output()\n",
    "            .run(capture_stdout=True, capture_stderr=True)\n",
    "        )\n",
    "\n",
    "        # print(f\"Преобразование завершено успешно. Результат сохранен как {output_path}\")\n",
    "    except Exception as e:\n",
    "        print(f\"Произошла ошибка при преобразовании: {str(e)}\")"
   ]
  },
  {
   "cell_type": "code",
   "execution_count": 31,
   "id": "8c385b33-255e-4b5f-811a-eb553286b819",
   "metadata": {},
   "outputs": [],
   "source": [
    "video_path = \"resources/source_video\"\n",
    "audio_path = \"resources/converted_audio\""
   ]
  },
  {
   "cell_type": "code",
   "execution_count": 33,
   "id": "5ae65598-b9ce-4fe0-bb29-2207625914d1",
   "metadata": {},
   "outputs": [],
   "source": [
    "#запуск конвертации папки с mp4 в mp3 \n",
    "# for file_name in os.listdir(video_path):\n",
    "#     if (os.path.splitext(file_name)[0] + \".mp3\") not in os.listdir(audio_path):\n",
    "#         convert_video_to_audio(f'{video_path}/{file_name}', f'{audio_path}/{os.path.splitext(file_name)[0] + \".mp3\"}')"
   ]
  },
  {
   "cell_type": "code",
   "execution_count": 35,
   "id": "4aa658a0-62b2-4571-bf52-77a11fcd11f0",
   "metadata": {},
   "outputs": [],
   "source": [
    "def get_text_from_audio(video_id):\n",
    "    convert_video_to_audio(f'{video_path}/{video_id}.mp4', f'{audio_path}/{video_id}.mp3')\n",
    "    return pipe(f'{audio_path}/{video_id}.mp3', return_timestamps=True)['text']\n",
    "    "
   ]
  },
  {
   "cell_type": "code",
   "execution_count": 37,
   "id": "a213d193-abf8-4aa1-b7d0-02cd099b2798",
   "metadata": {},
   "outputs": [
    {
     "name": "stdout",
     "output_type": "stream",
     "text": [
      "Преобразование завершено успешно. Результат сохранен как resources/converted_audio/2.mp3\n"
     ]
    },
    {
     "name": "stderr",
     "output_type": "stream",
     "text": [
      "/usr/local/lib/python3.10/dist-packages/transformers/models/whisper/generation_whisper.py:496: FutureWarning: The input name `inputs` is deprecated. Please make sure to use `input_features` instead.\n",
      "  warnings.warn(\n"
     ]
    },
    {
     "name": "stdout",
     "output_type": "stream",
     "text": [
      " так давай-ка я прочитаю название нашего кейса сейчас я его открою и посмотрим может ли весь перерабатывать видосы длиннее 30 секунд а я не в том кейс сошел сейчас я немножко потяну время чтобы чтобы можно было потом проверить работает ли он записями длиннее 30 секунд так все мероприятия произошла тех ошибку я не могу воспользоваться сайтом серьезно прикольно\n"
     ]
    }
   ],
   "source": [
    "print(get_text_from_audio(2))"
   ]
  },
  {
   "cell_type": "code",
   "execution_count": null,
   "id": "4a6367d7-24d5-47cb-adc3-64beadc6379a",
   "metadata": {},
   "outputs": [],
   "source": []
  }
 ],
 "metadata": {
  "kernelspec": {
   "display_name": "Python 3 (ipykernel)",
   "language": "python",
   "name": "python3"
  },
  "language_info": {
   "codemirror_mode": {
    "name": "ipython",
    "version": 3
   },
   "file_extension": ".py",
   "mimetype": "text/x-python",
   "name": "python",
   "nbconvert_exporter": "python",
   "pygments_lexer": "ipython3",
   "version": "3.10.12"
  }
 },
 "nbformat": 4,
 "nbformat_minor": 5
}
